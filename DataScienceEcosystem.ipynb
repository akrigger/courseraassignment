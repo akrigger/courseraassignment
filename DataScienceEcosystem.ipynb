{
 "cells": [
  {
   "cell_type": "markdown",
   "id": "89b2f8ac-d68d-4334-8a47-f9e4b8563671",
   "metadata": {},
   "source": [
    "# Data Science Tools and Ecosystem"
   ]
  },
  {
   "cell_type": "markdown",
   "id": "def67f24-fe70-45b6-8ee3-6146f3aa2391",
   "metadata": {},
   "source": [
    "In this notebook, Data Science Tools and Ecosystem are summarized."
   ]
  },
  {
   "cell_type": "markdown",
   "id": "940b570c-fb71-4a41-970f-7d0a048968f1",
   "metadata": {},
   "source": [
    "Objectives:\n",
    "- list some of the popular languages that data scientists use\n",
    "- list some of the commonly used libraries used by data scientists\n",
    "- list some of the commonly used data science tools"
   ]
  },
  {
   "cell_type": "markdown",
   "id": "c93eae78-f9d5-4e28-9479-a706bb0f70d1",
   "metadata": {},
   "source": [
    "Some of the popular languages that Data Scientists use are:\n",
    "1. Python\n",
    "2. R\n",
    "3. Julia"
   ]
  },
  {
   "cell_type": "markdown",
   "id": "df2c21b6-4cf7-46b6-8d8a-dee33c04c7c3",
   "metadata": {},
   "source": [
    "Some of the commonly used libraries used by Data Scientists include:\n",
    "1. Pandas\n",
    "2. SciPy\n",
    "3. NumPy"
   ]
  },
  {
   "cell_type": "markdown",
   "id": "3363701c-63c5-473d-b54c-ca0bdea41c27",
   "metadata": {},
   "source": [
    "| Data Science Tools |\n",
    "| ------ | \n",
    "| RStudio |\n",
    "|ApacheSpark | \n",
    "| TensorFlow |"
   ]
  },
  {
   "cell_type": "markdown",
   "id": "3ec260c5-852b-4246-84cc-189044105c57",
   "metadata": {},
   "source": [
    "### Below are a few examples of evaluating arithmetic expressions in Python"
   ]
  },
  {
   "cell_type": "markdown",
   "id": "48fe5315-0ea1-472a-ad9b-f8d3176960f6",
   "metadata": {},
   "source": [
    "This a simple arithmetic expression to mutiply then add integers"
   ]
  },
  {
   "cell_type": "code",
   "execution_count": 1,
   "id": "215a8a0e-5694-43d3-a05a-21cf0e3c93c1",
   "metadata": {},
   "outputs": [
    {
     "data": {
      "text/plain": [
       "17"
      ]
     },
     "execution_count": 1,
     "metadata": {},
     "output_type": "execute_result"
    }
   ],
   "source": [
    "(3*4)+5"
   ]
  },
  {
   "cell_type": "markdown",
   "id": "57c50626-57bd-4cab-83b4-1c1f3b841a9c",
   "metadata": {},
   "source": [
    "This will convert 200 minutes to hours by diving by 60"
   ]
  },
  {
   "cell_type": "code",
   "execution_count": 2,
   "id": "4329b49c-131c-497a-bddb-76110e08dd4f",
   "metadata": {},
   "outputs": [
    {
     "data": {
      "text/plain": [
       "3.3333333333333335"
      ]
     },
     "execution_count": 2,
     "metadata": {},
     "output_type": "execute_result"
    }
   ],
   "source": [
    "200/60"
   ]
  },
  {
   "cell_type": "markdown",
   "id": "a9c83bba-d02b-40ba-9142-1deed671228f",
   "metadata": {},
   "source": [
    "## Author\n",
    "Alexis Krigger"
   ]
  },
  {
   "cell_type": "code",
   "execution_count": null,
   "id": "2e37b1ed-80fa-4e14-943f-93935b5c182e",
   "metadata": {},
   "outputs": [],
   "source": []
  }
 ],
 "metadata": {
  "kernelspec": {
   "display_name": "anaconda-2022.05-py39",
   "language": "python",
   "name": "conda-env-anaconda-2022.05-py39-py"
  },
  "language_info": {
   "codemirror_mode": {
    "name": "ipython",
    "version": 3
   },
   "file_extension": ".py",
   "mimetype": "text/x-python",
   "name": "python",
   "nbconvert_exporter": "python",
   "pygments_lexer": "ipython3",
   "version": "3.9.12"
  }
 },
 "nbformat": 4,
 "nbformat_minor": 5
}
